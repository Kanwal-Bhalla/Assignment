{
 "cells": [
  {
   "cell_type": "markdown",
   "id": "f1b7cb8b",
   "metadata": {},
   "source": [
    "# Data Science Tools and Ecosystem"
   ]
  },
  {
   "cell_type": "markdown",
   "id": "44ecf5e5",
   "metadata": {},
   "source": [
    "## In this notebook, Data Science Tools and Ecosystem are summarized."
   ]
  },
  {
   "cell_type": "markdown",
   "id": "b5e20596",
   "metadata": {},
   "source": [
    "## Data Science Languages\n",
    "- Python\n",
    "- R\n",
    "- Julia\n",
    "- SQL\n"
   ]
  },
  {
   "cell_type": "markdown",
   "id": "9ac17c79",
   "metadata": {},
   "source": [
    "## Data Science Libraries\n",
    "- NumPy\n",
    "- Pandas\n",
    "- Matplotlib\n",
    "- Seaborn\n",
    "- Scikit-learn\n",
    "- TensorFlow\n",
    "- PyTorch\n"
   ]
  },
  {
   "cell_type": "markdown",
   "id": "364f5257",
   "metadata": {},
   "source": [
    "## Data Science Tools\n",
    "\n",
    "| Category          | Tools              |\n",
    "|-------------------|--------------------|\n",
    "| Data Wrangling    | Pandas, dplyr      |\n",
    "| Data Visualization| Matplotlib, Seaborn|\n",
    "| Machine Learning  | Scikit-learn, TensorFlow, PyTorch |\n",
    "| Database          | SQL                |\n"
   ]
  },
  {
   "cell_type": "markdown",
   "id": "998e5dbb",
   "metadata": {},
   "source": [
    "### Below are a few examples of evaluating arithmetic expressions in Python.\n"
   ]
  },
  {
   "cell_type": "code",
   "execution_count": 4,
   "id": "52b937d9",
   "metadata": {},
   "outputs": [
    {
     "data": {
      "text/plain": [
       "17"
      ]
     },
     "execution_count": 4,
     "metadata": {},
     "output_type": "execute_result"
    }
   ],
   "source": [
    "# This is a simple arithmetic expression to multiply then add integers.\n",
    "result_expression_8 = (3 * 4) + 5\n",
    "result_expression_8  # Expected output: 17\n"
   ]
  },
  {
   "cell_type": "code",
   "execution_count": 5,
   "id": "88627377",
   "metadata": {},
   "outputs": [
    {
     "data": {
      "text/plain": [
       "3.3333333333333335"
      ]
     },
     "execution_count": 5,
     "metadata": {},
     "output_type": "execute_result"
    }
   ],
   "source": [
    "# This will convert 200 minutes to hours by dividing by 60.\n",
    "minutes = 200\n",
    "hours = minutes / 60\n",
    "hours  # Expected output: 3.3333333333333335\n"
   ]
  },
  {
   "cell_type": "markdown",
   "id": "937a64bc",
   "metadata": {},
   "source": [
    "**Objectives:**\n",
    "\n",
    "- List popular languages for Data Science.\n",
    "- Explore essential data science libraries.\n",
    "- Understand common tools used in data science.\n",
    "- Practice basic arithmetic expressions and conversions.\n"
   ]
  },
  {
   "cell_type": "markdown",
   "id": "a15a3354",
   "metadata": {},
   "source": [
    "## Author\n",
    "Kanwaljeet Kaur Bhalla\n"
   ]
  },
  {
   "cell_type": "code",
   "execution_count": null,
   "id": "a3a31881",
   "metadata": {},
   "outputs": [],
   "source": []
  }
 ],
 "metadata": {
  "kernelspec": {
   "display_name": "Python 3 (ipykernel)",
   "language": "python",
   "name": "python3"
  },
  "language_info": {
   "codemirror_mode": {
    "name": "ipython",
    "version": 3
   },
   "file_extension": ".py",
   "mimetype": "text/x-python",
   "name": "python",
   "nbconvert_exporter": "python",
   "pygments_lexer": "ipython3",
   "version": "3.11.5"
  }
 },
 "nbformat": 4,
 "nbformat_minor": 5
}
